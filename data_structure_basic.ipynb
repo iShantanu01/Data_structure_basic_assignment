{
 "cells": [
  {
   "cell_type": "code",
   "execution_count": null,
   "id": "5e427eaa-1c85-4b72-82a3-79e1dd82d1b4",
   "metadata": {},
   "outputs": [],
   "source": [
    "# Q.1 Discuss string slicing and provide example.\n",
    "\n",
    "# 1. lower bound , upper bound and step of the the slicing should be in the same direction.\n",
    "# 2. In case of slicing uper bound can be anything ,considering step must be in the same direction.\n",
    "# 3. In absense of lower bound/lower bound step will guide the direction of slicing.\n",
    "# 4. In case of slicing upper bound should be greater than the lower bound. \n",
    "\n",
    "SLICING-\n",
    "s='shantanu'\n",
    "\n",
    "# positive slicing\n",
    "print(s[:])           # shantanu\n",
    "print(s[0:])          # shantanu\n",
    "print(s[3:8])         # ntanu\n",
    "print(s[3:])          # ntanu\n",
    "print(s[0:8])         # shantanu\n",
    "print(s[0:100])       # shantanu\n",
    "print(s[:100])        # shantanu\n",
    "\n",
    "# positive indexing with step\n",
    "print(s[::2])         # satn\n",
    "print(s[3::2])        # nau\n",
    "print(s[:7:2])        # satn\n",
    "print(s[1:7:2])       # hna\n",
    "\n",
    "\n",
    "# negative indexing\n",
    "print(s[:-1])             # shantan\n",
    "print(s[-8:])             # shantanu\n",
    "print(s[-5:])             # ntanu\n",
    "print(s[-8:-1])           # shantan\n",
    "print(s[-5:-1])           # ntan\n",
    "print(s[-7:-2])           # hanta\n",
    "\n",
    "\n",
    "# negative indexing with negative step \n",
    "print(s[:-8:-1])           # unatnah       \n",
    "print(s[:-5:-1])           # unat\n",
    "print(s[-1::-1])           # unatnahs\n",
    "print(s[-3::-1])           # atnahs\n",
    "print(s[-1:-8:-1])           # unatnah\n",
    "print(s[-3:-7:-2])           # an\n",
    "\n",
    "\n",
    "\n",
    "# negative indexing with positive step\n",
    "print(s[-8::])                # shantanu\n",
    "print(s[-8::1])               # shantanu\n",
    "print(s[:-1:1])               # shantan\n",
    "print(s[-8:-1:1])             # shantan\n",
    "print(s[-7:-2:2])             # hna\n",
    "\n",
    "\n",
    "\n",
    "\n",
    "\n",
    "\n"
   ]
  },
  {
   "cell_type": "code",
   "execution_count": 19,
   "id": "b8527d42-4fdf-40e2-a88c-a4595a4f967e",
   "metadata": {},
   "outputs": [
    {
     "data": {
      "text/plain": [
       "[10, 2, 3, 8, 9]"
      ]
     },
     "execution_count": 19,
     "metadata": {},
     "output_type": "execute_result"
    }
   ],
   "source": [
    "# Q.2 Explain the key features of lists in python.\n",
    "\n",
    "# 1. list is ordered collection of data.\n",
    "l=[10,2,3,8,9,2,5]\n",
    "\n",
    "#in this list every element have it's own index i.e order. It is not be placed randomly \n",
    "# like-\n",
    "l[4]   # output- 9\n",
    "l[0]   # output-10\n",
    "\n",
    "# 2. it store heterogenuous data and duplicate value is allowed.\n",
    "# in the following list there are various types of data ,like- string, integer , float ,list\n",
    "# 7 is the duplicate value.\n",
    "l1=['dhoni' , 'ranchi' ,7 , 2011 , 50.5 , [50,70,90] , 7]\n",
    "\n",
    "# 3. list is mutable.\n",
    "# the l1 elements can be changed\n",
    "l1[0]='Sachin'\n",
    "l1[0]              # output- 'Sachin'\n",
    "\n",
    "# 4. index and slicing is possible.\n",
    "# indexing\n",
    "l1[1]         # output- 'ranchi'\n",
    "l[0]          # output- 10\n",
    "\n",
    "# slicing-\n",
    "l[3:6]\n",
    "l[:5]\n",
    "\n",
    "\n",
    "\n",
    "\n"
   ]
  },
  {
   "cell_type": "code",
   "execution_count": 67,
   "id": "4d09fa3c-5a8f-4e3e-8956-35eaa9056fee",
   "metadata": {},
   "outputs": [
    {
     "data": {
      "text/plain": [
       "[10, 3, 8, 9, 2, 5, 'kolkata']"
      ]
     },
     "execution_count": 67,
     "metadata": {},
     "output_type": "execute_result"
    }
   ],
   "source": [
    "# Q.3 Describe how to access,modify,and delete elements in a list with example.\n",
    "\n",
    "# list creation-\n",
    "l=[10,2,3,8,9,2,5]\n",
    "\n",
    "# access the list-\n",
    "# indexing\n",
    "l[4]         # output- 9\n",
    "l[0]         # output- 10\n",
    "\n",
    "# slicing-\n",
    "# l[3:6]\n",
    "# l[3:] \n",
    "\n",
    "# modify the string-\n",
    "# 1. append-\n",
    "l.append('kolkata')\n",
    "\n",
    "# 2. insert- add element at given index\n",
    "l.insert(4 ,'rupam')\n",
    "\n",
    "# 3. concatination- it will not modify the original list\n",
    "l1 = ['rishi' ,'mango' ,'tiger']\n",
    "l+l1\n",
    "\n",
    "# delete elements from the list\n",
    "l.remove(2)\n",
    "l.pop(3)\n"
   ]
  },
  {
   "cell_type": "code",
   "execution_count": 23,
   "id": "14192f4b-eaaa-4f6c-84a3-ba30f5ddaedc",
   "metadata": {},
   "outputs": [],
   "source": [
    "# Q.4 Compare and contrast tuples and list with examples.\n",
    "\n",
    "# 1. compare list and tuple\n",
    "# list is mutable and tuple is immutable.\n",
    "# list\n",
    "l=[10, 3, 8, 9, 2, 5, 'kolkata']\n",
    "l[0] = 17                        # this is possible\n",
    "\n",
    "# tuple\n",
    "t=(10, 3, 8, 9, 2, 5, 'kolkata')\n",
    "# t[0] = 16                        # 'tuple' object does not support item assignment (because it is immutable)\n",
    "\n",
    "# 2. tuple works faster then list\n",
    "import time\n",
    "\n",
    "# list creation time\n",
    "start_time = time.time()\n",
    "lst = [i for i in range(10000000)]\n",
    "end_time = time.time()\n",
    "print('list creation time' , end_time - start_time)\n",
    "\n",
    "# tuple creation time\n",
    "start_time = time.time()\n",
    "tple = (i for i in range(10000000))\n",
    "end_time = time.time()\n",
    "print('tuple creation time' , end_time - start_time)\n",
    "\n",
    "\n",
    "\n",
    "# 2.contrast list and tuple\n",
    "# 1. list and tuple stores heterogenuous data.\n",
    "l=[10, 3, 8, 9, 2, 5, 'kolkata' , 9 ,[4,5,7] , 3+7j]               \n",
    "\n",
    "# tuple\n",
    "t=(10, 3, 8, 9, 2, 5, 'kolkata' ,9.7 , (4,8,9) , 6+8j ,[5,9,7,5])\n",
    "\n",
    "# note- hence both support heterogenuous data\n",
    "\n",
    "# 2. both are ordered collection of data.\n",
    "l[6]             # 'kolkata'\n",
    "t[6]             # 'kolkata'\n",
    "# note- in both ,every element have have a specific index (ie-odered)\n",
    "\n",
    "# both support concatination\n",
    "l1 = ['biriyani' , 'rice' , 'sweets']\n",
    "t1 = ('biriyani' , 'rice' , 'sweets')\n",
    "\n",
    "# concatination\n",
    "l+l1\n",
    "t+t1\n"
   ]
  },
  {
   "cell_type": "code",
   "execution_count": 7,
   "id": "5bf49dcb-091d-4bc7-9719-f31ec3cf8f9a",
   "metadata": {},
   "outputs": [
    {
     "data": {
      "text/plain": [
       "{1, 7, 9, 'm'}"
      ]
     },
     "execution_count": 7,
     "metadata": {},
     "output_type": "execute_result"
    }
   ],
   "source": [
    "# Q.5 Describe the key  features of sets and provide examples of their use.\n",
    "\n",
    "# 1.  sets are collection of unique and unorderd element.\n",
    "# 2. It does not allow duplicate elements.\n",
    "# 3. does not maintain any order.\n",
    "# 4. it can not be indexed.\n",
    "\n",
    "s= {1, 1 , 1 , 1 ,'m' ,'m' ,'m' ,'m' ,'m' , 7 , 7 , 9 , 9} \n",
    "# it returns unique element elements only\n",
    "s\n",
    "\n",
    "# we cannot fetch  any  particular value from the set because it is urodered element.\n",
    "# s[3]    'set' object is not subscriptable\n",
    "\n",
    "\n",
    "#  set can not contain mutable content (hashable)\n",
    "# s={1,4,6,[1,3,5]}  # list is mutable we can not include that\n"
   ]
  },
  {
   "cell_type": "code",
   "execution_count": 15,
   "id": "64e8edce-91fd-463f-a5c4-a6cf04017482",
   "metadata": {},
   "outputs": [
    {
     "data": {
      "text/plain": [
       "{1234567890, 123456789123, 980908, 's5089'}"
      ]
     },
     "execution_count": 15,
     "metadata": {},
     "output_type": "execute_result"
    }
   ],
   "source": [
    "# Q.6 Discuss the use cases of tuple and sets in python programming.\n",
    "\n",
    "# Tuple-\n",
    "# 1. Tuple is used to  store unchangable element ,as if it is not mutable\n",
    "#       like- ('name' , 'email_id' , 'age'  , 'Dob' )\n",
    "\n",
    "l= ('bikash' , 'bk2304@gmail.com' , 28 , 1-10-1998)\n",
    "l\n",
    "# Set- \n",
    "# it is used to store unique elements ,because it do not allow duplicate element\n",
    "#       like-{'Aadhaar_no' , 'Bank a/c no' , 'employee_id' , 'mobile_no'}\n",
    "s= {123456789123 , 980908  , 's5089' , 1234567890 , 123456789123 , 1234567890  , 's5089' }\n",
    "s       # it returns only unique vlues.\n"
   ]
  },
  {
   "cell_type": "code",
   "execution_count": 25,
   "id": "ece8163b-7f45-47a0-b357-e5ccc6284938",
   "metadata": {},
   "outputs": [
    {
     "data": {
      "text/plain": [
       "{'name': 'ranjan', 'location': 'delhi', 'job': 'data_analyst'}"
      ]
     },
     "execution_count": 25,
     "metadata": {},
     "output_type": "execute_result"
    }
   ],
   "source": [
    "# Q.7 Discuss how to add,modify,and delete items in a dictionary with examples.\n",
    "\n",
    "# create a dictionary\n",
    "d= {'name': 'ranjan'  , 'phn_no': 9098673  , 'location': 'kolkata'}\n",
    "\n",
    "# add items\n",
    "d['job'] ='data_analyst'\n",
    "\n",
    "# modify item- (values)\n",
    "d['location'] = 'delhi'\n",
    "\n",
    "# delete items\n",
    "del d['phn_no']\n"
   ]
  },
  {
   "cell_type": "code",
   "execution_count": 51,
   "id": "921b7e52-b634-4964-91ba-ba7f476dab98",
   "metadata": {},
   "outputs": [
    {
     "data": {
      "text/plain": [
       "{'name': ['rup', 'mahesh', 'pritam'], 'age': [20, 25, 30]}"
      ]
     },
     "execution_count": 51,
     "metadata": {},
     "output_type": "execute_result"
    }
   ],
   "source": [
    "# Q.8 Discuss the importance of dictionary keys being immutable and provide examples.\n",
    "\n",
    "# create a dictionary\n",
    "d= {'name': 'ranjan'  , 'phn_no': 9098673  , 'location': 'kolkata'}\n",
    "\n",
    "# 1.so far we know dictionary  values are stored is memory with the reference of key (hasing) -like indexing\n",
    "#   if we change the key it will not possible to track or store the values, for that key is immutable.\n",
    "\n",
    "# 2. although if it was possible to do so, it is very difficult to track all the values.\n",
    "\n",
    "\n",
    "dict ={'name': ['rup' , 'mahesh' , 'pritam'] ,\n",
    "        'age':[20 ,25 , 30]}\n",
    "\n",
    "# so we alaways take the key as a reference of the values\n",
    "dict['name'][0]\n",
    "dict['name'][1]\n",
    "dict['name'][2]\n",
    "\n",
    "dict['age'][0]\n",
    "dict['age'][2]\n"
   ]
  },
  {
   "cell_type": "code",
   "execution_count": null,
   "id": "e3263957-988e-4662-a3d1-8296cd9cefbe",
   "metadata": {},
   "outputs": [],
   "source": []
  },
  {
   "cell_type": "code",
   "execution_count": null,
   "id": "ec0ab845-0425-489d-a740-9ff83335f700",
   "metadata": {},
   "outputs": [],
   "source": []
  }
 ],
 "metadata": {
  "kernelspec": {
   "display_name": "Python 3 (ipykernel)",
   "language": "python",
   "name": "python3"
  },
  "language_info": {
   "codemirror_mode": {
    "name": "ipython",
    "version": 3
   },
   "file_extension": ".py",
   "mimetype": "text/x-python",
   "name": "python",
   "nbconvert_exporter": "python",
   "pygments_lexer": "ipython3",
   "version": "3.12.4"
  }
 },
 "nbformat": 4,
 "nbformat_minor": 5
}
